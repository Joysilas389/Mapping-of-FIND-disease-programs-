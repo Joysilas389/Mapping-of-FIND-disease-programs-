{
 "cells": [
  {
   "cell_type": "code",
   "execution_count": 1,
   "id": "1fb19824-d073-4fcc-9c77-1e830bd06d94",
   "metadata": {
    "tags": []
   },
   "outputs": [],
   "source": [
    "import pandas as pd"
   ]
  },
  {
   "cell_type": "code",
   "execution_count": 2,
   "id": "3bf2d51c-f527-4c87-b324-a96b5fa79f3c",
   "metadata": {
    "tags": []
   },
   "outputs": [],
   "source": [
    "# Load the first CSV file into a pandas DataFrame\n",
    "icd_data_df = pd.read_csv('datasets/icd_data.csv', usecols=['icd11Code', 'icd11Chapter', 'icd11Title'], encoding = 'latin')\n",
    "\n",
    "# Load the second CSV file into another pandas DataFrame\n",
    "disease_program_df = pd.read_csv('datasets/disease_programs.csv', encoding = 'latin')"
   ]
  },
  {
   "cell_type": "code",
   "execution_count": 3,
   "id": "b11fbe49-7452-4ce9-b590-c53d797db916",
   "metadata": {
    "tags": []
   },
   "outputs": [],
   "source": [
    "# Create an empty pandas DataFrame to store the mapping\n",
    "mapping_df = pd.DataFrame(columns=['DiseaseProgram', 'Disease', 'ICD 11 Code', 'ICD 11 Chapter', 'ICD Title'])"
   ]
  },
  {
   "cell_type": "code",
   "execution_count": 4,
   "id": "d64ba0fb-6a8f-44a3-b6de-9634ea194882",
   "metadata": {
    "tags": []
   },
   "outputs": [],
   "source": [
    "# Create an empty DataFrame to store the mapping\n",
    "mapping_df = pd.DataFrame(columns=['DiseaseProgram', 'Disease', 'ICD 11 Code', 'ICD 11 Chapter', 'ICD Title'])\n",
    "\n",
    "# Loop through each row in the disease_program_df\n",
    "for index, row in disease_program_df.iterrows():\n",
    "    # Extract the disease and disease program from the current row\n",
    "    disease = row['Disease']\n",
    "    diseaseprogram = row['DiseaseProgram']\n",
    "\n",
    "    # Find the corresponding rows in the icd_data_df that contain the disease name\n",
    "    rows = icd_data_df[icd_data_df['icd11Title'].str.contains(str(disease), case=False)]\n",
    "\n",
    "    # Add a new row to the mapping DataFrame for each matching disease and its corresponding ICD 11 code, chapter, and title\n",
    "    for index, row in rows.iterrows():\n",
    "        new_row = {'DiseaseProgram': diseaseprogram,\n",
    "                   'Disease': disease,\n",
    "                   'ICD 11 Code': row['icd11Code'],\n",
    "                   'ICD 11 Chapter': row['icd11Chapter'],\n",
    "                   'ICD Title': row['icd11Title']}\n",
    "\n",
    "        mapping_df = pd.concat([mapping_df, pd.DataFrame([new_row])], ignore_index=True)\n",
    "\n",
    "# Drop duplicates in the 'Disease' column of mapping_df\n",
    "#mapping_df.drop_duplicates(subset=['DiseaseProgram', 'Disease'], inplace=True)\n",
    "# Drop duplicates in the 'DiseaseProgram', 'Disease', 'ICD 11 Code', 'ICD 11 Chapter', and 'ICD Title' columns of mapping_df\n",
    "mapping_df.drop_duplicates(subset=['DiseaseProgram', 'Disease', 'ICD 11 Code', 'ICD 11 Chapter', 'ICD Title'], inplace=True)\n",
    "\n",
    "# Reorder the columns in the mapping_df\n",
    "mapping_df = mapping_df[['DiseaseProgram', 'Disease', 'ICD 11 Code', 'ICD 11 Chapter', 'ICD Title']]"
   ]
  },
  {
   "cell_type": "code",
   "execution_count": 5,
   "id": "d8db2ef6-4107-405b-925c-ad29051a9a84",
   "metadata": {
    "tags": []
   },
   "outputs": [
    {
     "data": {
      "text/html": [
       "<div>\n",
       "<style scoped>\n",
       "    .dataframe tbody tr th:only-of-type {\n",
       "        vertical-align: middle;\n",
       "    }\n",
       "\n",
       "    .dataframe tbody tr th {\n",
       "        vertical-align: top;\n",
       "    }\n",
       "\n",
       "    .dataframe thead th {\n",
       "        text-align: right;\n",
       "    }\n",
       "</style>\n",
       "<table border=\"1\" class=\"dataframe\">\n",
       "  <thead>\n",
       "    <tr style=\"text-align: right;\">\n",
       "      <th></th>\n",
       "      <th>DiseaseProgram</th>\n",
       "      <th>Disease</th>\n",
       "      <th>ICD 11 Code</th>\n",
       "      <th>ICD 11 Chapter</th>\n",
       "      <th>ICD Title</th>\n",
       "    </tr>\n",
       "  </thead>\n",
       "  <tbody>\n",
       "    <tr>\n",
       "      <th>0</th>\n",
       "      <td>NCD</td>\n",
       "      <td>Diabetes</td>\n",
       "      <td>NaN</td>\n",
       "      <td>05</td>\n",
       "      <td>Diabetes mellitus</td>\n",
       "    </tr>\n",
       "    <tr>\n",
       "      <th>1</th>\n",
       "      <td>NCD</td>\n",
       "      <td>Diabetes</td>\n",
       "      <td>5A10</td>\n",
       "      <td>05</td>\n",
       "      <td>Type 1 diabetes mellitus</td>\n",
       "    </tr>\n",
       "    <tr>\n",
       "      <th>3</th>\n",
       "      <td>NCD</td>\n",
       "      <td>Diabetes</td>\n",
       "      <td>NaN</td>\n",
       "      <td>05</td>\n",
       "      <td>Acute complications of diabetes mellitus</td>\n",
       "    </tr>\n",
       "    <tr>\n",
       "      <th>11</th>\n",
       "      <td>NCD</td>\n",
       "      <td>Diabetes</td>\n",
       "      <td>5A24</td>\n",
       "      <td>05</td>\n",
       "      <td>Uncontrolled or unstable diabetes mellitus</td>\n",
       "    </tr>\n",
       "    <tr>\n",
       "      <th>15</th>\n",
       "      <td>NCD</td>\n",
       "      <td>Diabetes</td>\n",
       "      <td>5A11</td>\n",
       "      <td>05</td>\n",
       "      <td>Type 2 diabetes mellitus</td>\n",
       "    </tr>\n",
       "    <tr>\n",
       "      <th>...</th>\n",
       "      <td>...</td>\n",
       "      <td>...</td>\n",
       "      <td>...</td>\n",
       "      <td>...</td>\n",
       "      <td>...</td>\n",
       "    </tr>\n",
       "    <tr>\n",
       "      <th>300</th>\n",
       "      <td>RespiratoryDisease</td>\n",
       "      <td>Pneumonia</td>\n",
       "      <td>MG51.10</td>\n",
       "      <td>21</td>\n",
       "      <td>Penicillin resistant Streptococcus pneumoniae</td>\n",
       "    </tr>\n",
       "    <tr>\n",
       "      <th>301</th>\n",
       "      <td>RespiratoryDisease</td>\n",
       "      <td>Pneumonia</td>\n",
       "      <td>MG50.56</td>\n",
       "      <td>21</td>\n",
       "      <td>Extended-spectrum beta-lactamase producing Kle...</td>\n",
       "    </tr>\n",
       "    <tr>\n",
       "      <th>302</th>\n",
       "      <td>RespiratoryDisease</td>\n",
       "      <td>Pneumonia</td>\n",
       "      <td>MG50.54</td>\n",
       "      <td>21</td>\n",
       "      <td>Carbapenem resistant Klebsiella pneumoniae</td>\n",
       "    </tr>\n",
       "    <tr>\n",
       "      <th>303</th>\n",
       "      <td>RespiratoryDisease</td>\n",
       "      <td>Pneumonia</td>\n",
       "      <td>MG50.52</td>\n",
       "      <td>21</td>\n",
       "      <td>Third-generation cephalosporin resistant Klebs...</td>\n",
       "    </tr>\n",
       "    <tr>\n",
       "      <th>310</th>\n",
       "      <td>RespiratoryDisease</td>\n",
       "      <td>Pneumonia</td>\n",
       "      <td>MG50.55</td>\n",
       "      <td>21</td>\n",
       "      <td>Polymyxin resistant Klebsiella pneumoniae</td>\n",
       "    </tr>\n",
       "  </tbody>\n",
       "</table>\n",
       "<p>137 rows × 5 columns</p>\n",
       "</div>"
      ],
      "text/plain": [
       "         DiseaseProgram    Disease ICD 11 Code ICD 11 Chapter  \\\n",
       "0                   NCD   Diabetes         NaN             05   \n",
       "1                   NCD   Diabetes        5A10             05   \n",
       "3                   NCD   Diabetes         NaN             05   \n",
       "11                  NCD   Diabetes        5A24             05   \n",
       "15                  NCD   Diabetes        5A11             05   \n",
       "..                  ...        ...         ...            ...   \n",
       "300  RespiratoryDisease  Pneumonia     MG51.10             21   \n",
       "301  RespiratoryDisease  Pneumonia     MG50.56             21   \n",
       "302  RespiratoryDisease  Pneumonia     MG50.54             21   \n",
       "303  RespiratoryDisease  Pneumonia     MG50.52             21   \n",
       "310  RespiratoryDisease  Pneumonia     MG50.55             21   \n",
       "\n",
       "                                             ICD Title  \n",
       "0                                    Diabetes mellitus  \n",
       "1                             Type 1 diabetes mellitus  \n",
       "3             Acute complications of diabetes mellitus  \n",
       "11          Uncontrolled or unstable diabetes mellitus  \n",
       "15                            Type 2 diabetes mellitus  \n",
       "..                                                 ...  \n",
       "300      Penicillin resistant Streptococcus pneumoniae  \n",
       "301  Extended-spectrum beta-lactamase producing Kle...  \n",
       "302         Carbapenem resistant Klebsiella pneumoniae  \n",
       "303  Third-generation cephalosporin resistant Klebs...  \n",
       "310          Polymyxin resistant Klebsiella pneumoniae  \n",
       "\n",
       "[137 rows x 5 columns]"
      ]
     },
     "execution_count": 5,
     "metadata": {},
     "output_type": "execute_result"
    }
   ],
   "source": [
    "mapping_df"
   ]
  },
  {
   "cell_type": "code",
   "execution_count": 197,
   "id": "55307f6e-14b4-4888-89e5-79b5aa39a8e3",
   "metadata": {
    "tags": []
   },
   "outputs": [],
   "source": [
    "# Write the resulting dataframe to a CSV file\n",
    "mapping_df.to_csv('mapping_df.csv', index=False)"
   ]
  }
 ],
 "metadata": {
  "kernelspec": {
   "display_name": "Python 3 (ipykernel)",
   "language": "python",
   "name": "python3"
  },
  "language_info": {
   "codemirror_mode": {
    "name": "ipython",
    "version": 3
   },
   "file_extension": ".py",
   "mimetype": "text/x-python",
   "name": "python",
   "nbconvert_exporter": "python",
   "pygments_lexer": "ipython3",
   "version": "3.10.9"
  }
 },
 "nbformat": 4,
 "nbformat_minor": 5
}
