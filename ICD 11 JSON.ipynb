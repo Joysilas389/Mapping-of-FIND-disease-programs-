{
 "cells": [
  {
   "cell_type": "code",
   "execution_count": 1,
   "id": "df49301e-473c-46e0-a2d0-159a90b57187",
   "metadata": {
    "tags": []
   },
   "outputs": [],
   "source": [
    "import pandas as pd\n",
    "import requests"
   ]
  },
  {
   "cell_type": "code",
   "execution_count": 11,
   "id": "a4eb66af-6818-4936-b98a-96a168b3e417",
   "metadata": {
    "tags": []
   },
   "outputs": [
    {
     "data": {
      "text/plain": [
       "{'@context': 'http://id.who.int/icd/contexts/contextForFoundationEntity.json',\n",
       " '@id': 'http://id.who.int/icd/entity/723665457',\n",
       " 'parent': ['http://id.who.int/icd/entity/882590883'],\n",
       " 'child': ['http://id.who.int/icd/entity/1864074583',\n",
       "  'http://id.who.int/icd/entity/2016666007',\n",
       "  'http://id.who.int/icd/entity/1095453911',\n",
       "  'http://id.who.int/icd/entity/1449338903',\n",
       "  'http://id.who.int/icd/entity/867833431'],\n",
       " 'browserUrl': 'NA',\n",
       " 'title': {'@language': 'en', '@value': 'Energy and drive functions'},\n",
       " 'definition': {'@language': 'en',\n",
       "  '@value': 'General mental functions of physiological and psychological mechanisms that cause the individual to move towards satisfy specific needs and general goals in a persistent manner.'},\n",
       " 'exclusion': [{'label': {'@language': 'en',\n",
       "    '@value': 'Consciousness functions'},\n",
       "   'foundationReference': 'http://id.who.int/icd/entity/1060289548'},\n",
       "  {'label': {'@language': 'en', '@value': 'Emotional functions'},\n",
       "   'foundationReference': 'http://id.who.int/icd/entity/668868854'},\n",
       "  {'label': {'@language': 'en', '@value': 'Psychomotor functions'},\n",
       "   'foundationReference': 'http://id.who.int/icd/entity/1295484620'},\n",
       "  {'label': {'@language': 'en', '@value': 'Sleep functions'},\n",
       "   'foundationReference': 'http://id.who.int/icd/entity/2122861806'},\n",
       "  {'label': {'@language': 'en',\n",
       "    '@value': 'Temperament and personality functions'},\n",
       "   'foundationReference': 'http://id.who.int/icd/entity/366825380'}]}"
      ]
     },
     "execution_count": 11,
     "metadata": {},
     "output_type": "execute_result"
    }
   ],
   "source": [
    "# disable insecure request warning\n",
    "requests.packages.urllib3.disable_warnings()\n",
    "\n",
    "# set token endpoint and credentials\n",
    "token_endpoint = 'https://icdaccessmanagement.who.int/connect/token'\n",
    "client_id = '18e56bce-78d9-4b6f-a2c4-f471fc525936_fa22fa85-d247-4f76-b2ac-ea3be5fb3cb5'\n",
    "client_secret = 'K04fmuPBZvWMOvZyzVyXLpzd9kV2MCPy4ojk2wYfE8A='\n",
    "scope = 'icdapi_access'\n",
    "grant_type = 'client_credentials'\n",
    "\n",
    "# set data to post\n",
    "payload = {'client_id': client_id, \n",
    "           'client_secret': client_secret, \n",
    "           'scope': scope, \n",
    "           'grant_type': grant_type}\n",
    "\n",
    "# make request with certificate verification\n",
    "r = requests.post(token_endpoint, data=payload, verify=True).json()\n",
    "token = r['access_token']\n",
    "\n",
    "# access ICD API\n",
    "uris = ['http://id.who.int/icd/entity/723665457']\n",
    "\n",
    "# HTTP header fields to set\n",
    "headers = {'Authorization':  'Bearer '+token, \n",
    "           'Accept': 'application/json', \n",
    "           'Accept-Language': 'en',\n",
    "           'API-Version': 'v2'}\n",
    "\n",
    "# loop over URIs and make request for each\n",
    "for uri in uris:\n",
    "    # make request with certificate verification\n",
    "    r = requests.get(uri, headers=headers, verify=True)\n",
    "    # convert JSON data into a Python data structure\n",
    "    data = r.json()\n",
    "\n",
    "data"
   ]
  }
 ],
 "metadata": {
  "kernelspec": {
   "display_name": "Python 3 (ipykernel)",
   "language": "python",
   "name": "python3"
  },
  "language_info": {
   "codemirror_mode": {
    "name": "ipython",
    "version": 3
   },
   "file_extension": ".py",
   "mimetype": "text/x-python",
   "name": "python",
   "nbconvert_exporter": "python",
   "pygments_lexer": "ipython3",
   "version": "3.10.9"
  }
 },
 "nbformat": 4,
 "nbformat_minor": 5
}
